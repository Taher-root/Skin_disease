{
  "nbformat": 4,
  "nbformat_minor": 0,
  "metadata": {
    "colab": {
      "provenance": [],
      "authorship_tag": "ABX9TyMZyONqkz5nG34v54c2xpo2",
      "include_colab_link": true
    },
    "kernelspec": {
      "name": "python3",
      "display_name": "Python 3"
    },
    "language_info": {
      "name": "python"
    }
  },
  "cells": [
    {
      "cell_type": "markdown",
      "metadata": {
        "id": "view-in-github",
        "colab_type": "text"
      },
      "source": [
        "<a href=\"https://colab.research.google.com/github/Taher-root/Skin_disease/blob/main/skin_disease_randomforest.ipynb\" target=\"_parent\"><img src=\"https://colab.research.google.com/assets/colab-badge.svg\" alt=\"Open In Colab\"/></a>"
      ]
    },
    {
      "cell_type": "code",
      "execution_count": null,
      "metadata": {
        "colab": {
          "base_uri": "https://localhost:8080/"
        },
        "id": "_fui7FWXzWEW",
        "outputId": "c685b5c8-7640-4d60-b863-3adc15415d2d"
      },
      "outputs": [
        {
          "output_type": "stream",
          "name": "stdout",
          "text": [
            "Drive already mounted at /content/drive; to attempt to forcibly remount, call drive.mount(\"/content/drive\", force_remount=True).\n"
          ]
        }
      ],
      "source": [
        "import numpy as np\n",
        "import pandas as pd\n",
        "from sklearn.model_selection import train_test_split\n",
        "from sklearn.ensemble import RandomForestClassifier\n",
        "from sklearn.metrics import classification_report, accuracy_score\n",
        "from google.colab import drive\n",
        "import os\n",
        "drive.mount('/content/drive')"
      ]
    },
    {
      "cell_type": "code",
      "source": [
        "data_path = '/content/drive/MyDrive/'\n",
        "os.listdir(data_path)"
      ],
      "metadata": {
        "colab": {
          "base_uri": "https://localhost:8080/"
        },
        "id": "ZU1Ss3NGDT8b",
        "outputId": "8ae37ef5-8bbc-4c06-8d53-652247384281"
      },
      "execution_count": null,
      "outputs": [
        {
          "output_type": "execute_result",
          "data": {
            "text/plain": [
              "['Getting started.pdf',\n",
              " 'Miller indices experiment.pdf',\n",
              " 'mechanics practicals .pdf',\n",
              " 'New doc 05-Mar-2021 3.50 pm.pdf',\n",
              " 'maths matrices assignment.pdf',\n",
              " 'matrices assignment.pdf',\n",
              " 'cv.jpg',\n",
              " 'physics tutorial.pdf',\n",
              " 'physics tutorial 1.pdf',\n",
              " 'physics assignment 166.pdf',\n",
              " 'tinkercad 1.jpg',\n",
              " 'tinkercad 2.jpg',\n",
              " 'Read First.pdf',\n",
              " 'Read First mech.pdf',\n",
              " 'cv.pdf',\n",
              " '2 questions.pdf',\n",
              " 'virtual lab.pdf',\n",
              " 'tinker.jpg',\n",
              " '1616575180501tinkercad.jpg',\n",
              " '161tinkercad.jpg',\n",
              " 'tinkercad 100.jpg',\n",
              " 'tinkercad 200.jpg',\n",
              " 'tinkercad 300.jpg',\n",
              " 'tinkercad 400.jpg',\n",
              " 'tinkercad 500.jpg',\n",
              " 'tinkercad 600.jpg',\n",
              " 'tinkercad 700.jpg',\n",
              " 'photoelectric.pdf',\n",
              " 'straight line.jpg',\n",
              " 'interference Document from .pdf',\n",
              " 'Colab Notebooks',\n",
              " 'c hw.pdf',\n",
              " 'Classroom',\n",
              " '60002200074_Honors_IoT.pdf',\n",
              " '60002200074_Minors_AIML.pdf',\n",
              " 'Task 3 Final.pdf',\n",
              " 'Screenshot_2021-09-30-20-45-51-953_com.google.android.apps.nbu.paisa.user.jpg',\n",
              " 'Screenshot_2021-09-30-20-45-38-294_com.google.android.apps.nbu.paisa.user.jpg',\n",
              " 'Payment details.pdf',\n",
              " 'Resume_Taher (1).pdf',\n",
              " 'IoT Workshop Payment details .pdf',\n",
              " 'IMG-20211204-WA0013.jpg',\n",
              " 'IMG_20211217_121202.jpg',\n",
              " 'Screenshot_2021-12-19-16-25-06-138_com.google.android.apps.nbu.paisa.user.jpg',\n",
              " 'Laplace Application.gslides',\n",
              " 'PyPractice.ipynb',\n",
              " 'Taher.png',\n",
              " 'Acd Gand.gdoc',\n",
              " '60002200074_ Honors_IoT.pdf',\n",
              " '60002200074_ Minors_AIML.pdf',\n",
              " 'Screenshot_2022-02-25-21-51-16-272_com.google.android.apps.nbu.paisa.user.jpg',\n",
              " 'Untitled spreadsheet.gsheet',\n",
              " 'Picture.jpeg',\n",
              " 'Signature.jpeg',\n",
              " 'Untitled form (1).gform',\n",
              " 'Untitled form.gform',\n",
              " 'Racing test.pdf',\n",
              " 'PCB_Task.zip',\n",
              " 'Racing_Communication-protocols_Task.pdf',\n",
              " 'Coursera Intro to AI.pdf',\n",
              " 'Coursera Intro to IOT.pdf',\n",
              " 'Coursera JS.pdf',\n",
              " 'Coursera Mobile and smart devices.pdf',\n",
              " 'Coursera What is the mind.pdf',\n",
              " 'Coursera_AI powered chatbots.pdf',\n",
              " 'Coursera_AI using IBM Watson.pdf',\n",
              " 'Coursera_Embedded Hardware.pdf',\n",
              " 'Coursera_Sensing and Actuation.pdf',\n",
              " 'doca-1.pdf',\n",
              " 'Coursera.pdf',\n",
              " 'Taher Kapadia_HV.pdf',\n",
              " 'Interview requirements.gdoc',\n",
              " 'Racing_code.ino',\n",
              " 'Arduino task.pdsprj',\n",
              " 'Racing (Note).pdf',\n",
              " 'Untitled document.gdoc',\n",
              " 'Sem4',\n",
              " 'Antariksh',\n",
              " 'Qualification ',\n",
              " 'SAVE_20220512_213439.jpg',\n",
              " 'SAVE_20220512_213718 (1).jpg',\n",
              " 'SAVE_20220512_213718.jpg',\n",
              " 'Charging_Cart_Harness',\n",
              " 'SAVE_20220722_161509.jpg',\n",
              " 'Team Report (2).pdf',\n",
              " 'Team Report (1).pdf',\n",
              " 'Team Report.pdf',\n",
              " 'Marketing.gdoc',\n",
              " 'Screenshot_2022-09-21-01-57-46-152_net.one97.paytm.jpg',\n",
              " 'Sem5',\n",
              " 'Brainstorming.gdoc',\n",
              " 'DSP.pdf',\n",
              " 'Title - 1669969953836.jpeg',\n",
              " 'Screenshot_2022-12-29-12-04-19-543_net.one97.paytm.jpg',\n",
              " 'Screenshot_2022-12-31-22-35-53-710_net.one97.paytm.jpg',\n",
              " 'finalmerged.pdf',\n",
              " 'Screenshot_2023-02-27-19-30-00-195_net.one97.paytm.jpg',\n",
              " 'Resume_TKK (8).pdf',\n",
              " 'Taher- Fall 24 Robotics   Cyber Security- US  Germany  Australia.pdf',\n",
              " 'Resume_TKK (7).pdf',\n",
              " 'Resume_TKK (6).pdf',\n",
              " 'Resume_TKK (5).pdf',\n",
              " 'Resume_TKK (4).pdf',\n",
              " 'Resume_TKK (3).pdf',\n",
              " 'Resume_TKK (2).pdf',\n",
              " 'Resume_TKK (1).pdf',\n",
              " 'Resume_TKK.pdf',\n",
              " 'DJS Antariksh_Taher Kapadia_GDPR_ERC2023.pdf',\n",
              " '1682924006966.pdf',\n",
              " 'Untitled presentation.gslides',\n",
              " 'Systemic Disease']"
            ]
          },
          "metadata": {},
          "execution_count": 7
        }
      ]
    },
    {
      "cell_type": "code",
      "source": [
        "# Load your dataset\n",
        "# Replace 'your_dataset.csv' with the path to your dataset file\n",
        "data = pd.read_csv(data_path+'Systemic Disease')\n"
      ],
      "metadata": {
        "colab": {
          "base_uri": "https://localhost:8080/",
          "height": 345
        },
        "id": "sGAL_Rx4zZYn",
        "outputId": "8c727038-997d-447c-ed60-ec10868fddf2"
      },
      "execution_count": null,
      "outputs": [
        {
          "output_type": "error",
          "ename": "IsADirectoryError",
          "evalue": "ignored",
          "traceback": [
            "\u001b[0;31m---------------------------------------------------------------------------\u001b[0m",
            "\u001b[0;31mIsADirectoryError\u001b[0m                         Traceback (most recent call last)",
            "\u001b[0;32m<ipython-input-8-8381335d433e>\u001b[0m in \u001b[0;36m<cell line: 3>\u001b[0;34m()\u001b[0m\n\u001b[1;32m      1\u001b[0m \u001b[0;31m# Load your dataset\u001b[0m\u001b[0;34m\u001b[0m\u001b[0;34m\u001b[0m\u001b[0m\n\u001b[1;32m      2\u001b[0m \u001b[0;31m# Replace 'your_dataset.csv' with the path to your dataset file\u001b[0m\u001b[0;34m\u001b[0m\u001b[0;34m\u001b[0m\u001b[0m\n\u001b[0;32m----> 3\u001b[0;31m \u001b[0mdata\u001b[0m \u001b[0;34m=\u001b[0m \u001b[0mpd\u001b[0m\u001b[0;34m.\u001b[0m\u001b[0mread_csv\u001b[0m\u001b[0;34m(\u001b[0m\u001b[0mdata_path\u001b[0m\u001b[0;34m+\u001b[0m\u001b[0;34m'Systemic Disease'\u001b[0m\u001b[0;34m)\u001b[0m\u001b[0;34m\u001b[0m\u001b[0;34m\u001b[0m\u001b[0m\n\u001b[0m",
            "\u001b[0;32m/usr/local/lib/python3.10/dist-packages/pandas/util/_decorators.py\u001b[0m in \u001b[0;36mwrapper\u001b[0;34m(*args, **kwargs)\u001b[0m\n\u001b[1;32m    209\u001b[0m                 \u001b[0;32melse\u001b[0m\u001b[0;34m:\u001b[0m\u001b[0;34m\u001b[0m\u001b[0;34m\u001b[0m\u001b[0m\n\u001b[1;32m    210\u001b[0m                     \u001b[0mkwargs\u001b[0m\u001b[0;34m[\u001b[0m\u001b[0mnew_arg_name\u001b[0m\u001b[0;34m]\u001b[0m \u001b[0;34m=\u001b[0m \u001b[0mnew_arg_value\u001b[0m\u001b[0;34m\u001b[0m\u001b[0;34m\u001b[0m\u001b[0m\n\u001b[0;32m--> 211\u001b[0;31m             \u001b[0;32mreturn\u001b[0m \u001b[0mfunc\u001b[0m\u001b[0;34m(\u001b[0m\u001b[0;34m*\u001b[0m\u001b[0margs\u001b[0m\u001b[0;34m,\u001b[0m \u001b[0;34m**\u001b[0m\u001b[0mkwargs\u001b[0m\u001b[0;34m)\u001b[0m\u001b[0;34m\u001b[0m\u001b[0;34m\u001b[0m\u001b[0m\n\u001b[0m\u001b[1;32m    212\u001b[0m \u001b[0;34m\u001b[0m\u001b[0m\n\u001b[1;32m    213\u001b[0m         \u001b[0;32mreturn\u001b[0m \u001b[0mcast\u001b[0m\u001b[0;34m(\u001b[0m\u001b[0mF\u001b[0m\u001b[0;34m,\u001b[0m \u001b[0mwrapper\u001b[0m\u001b[0;34m)\u001b[0m\u001b[0;34m\u001b[0m\u001b[0;34m\u001b[0m\u001b[0m\n",
            "\u001b[0;32m/usr/local/lib/python3.10/dist-packages/pandas/util/_decorators.py\u001b[0m in \u001b[0;36mwrapper\u001b[0;34m(*args, **kwargs)\u001b[0m\n\u001b[1;32m    329\u001b[0m                     \u001b[0mstacklevel\u001b[0m\u001b[0;34m=\u001b[0m\u001b[0mfind_stack_level\u001b[0m\u001b[0;34m(\u001b[0m\u001b[0;34m)\u001b[0m\u001b[0;34m,\u001b[0m\u001b[0;34m\u001b[0m\u001b[0;34m\u001b[0m\u001b[0m\n\u001b[1;32m    330\u001b[0m                 )\n\u001b[0;32m--> 331\u001b[0;31m             \u001b[0;32mreturn\u001b[0m \u001b[0mfunc\u001b[0m\u001b[0;34m(\u001b[0m\u001b[0;34m*\u001b[0m\u001b[0margs\u001b[0m\u001b[0;34m,\u001b[0m \u001b[0;34m**\u001b[0m\u001b[0mkwargs\u001b[0m\u001b[0;34m)\u001b[0m\u001b[0;34m\u001b[0m\u001b[0;34m\u001b[0m\u001b[0m\n\u001b[0m\u001b[1;32m    332\u001b[0m \u001b[0;34m\u001b[0m\u001b[0m\n\u001b[1;32m    333\u001b[0m         \u001b[0;31m# error: \"Callable[[VarArg(Any), KwArg(Any)], Any]\" has no\u001b[0m\u001b[0;34m\u001b[0m\u001b[0;34m\u001b[0m\u001b[0m\n",
            "\u001b[0;32m/usr/local/lib/python3.10/dist-packages/pandas/io/parsers/readers.py\u001b[0m in \u001b[0;36mread_csv\u001b[0;34m(filepath_or_buffer, sep, delimiter, header, names, index_col, usecols, squeeze, prefix, mangle_dupe_cols, dtype, engine, converters, true_values, false_values, skipinitialspace, skiprows, skipfooter, nrows, na_values, keep_default_na, na_filter, verbose, skip_blank_lines, parse_dates, infer_datetime_format, keep_date_col, date_parser, dayfirst, cache_dates, iterator, chunksize, compression, thousands, decimal, lineterminator, quotechar, quoting, doublequote, escapechar, comment, encoding, encoding_errors, dialect, error_bad_lines, warn_bad_lines, on_bad_lines, delim_whitespace, low_memory, memory_map, float_precision, storage_options)\u001b[0m\n\u001b[1;32m    948\u001b[0m     \u001b[0mkwds\u001b[0m\u001b[0;34m.\u001b[0m\u001b[0mupdate\u001b[0m\u001b[0;34m(\u001b[0m\u001b[0mkwds_defaults\u001b[0m\u001b[0;34m)\u001b[0m\u001b[0;34m\u001b[0m\u001b[0;34m\u001b[0m\u001b[0m\n\u001b[1;32m    949\u001b[0m \u001b[0;34m\u001b[0m\u001b[0m\n\u001b[0;32m--> 950\u001b[0;31m     \u001b[0;32mreturn\u001b[0m \u001b[0m_read\u001b[0m\u001b[0;34m(\u001b[0m\u001b[0mfilepath_or_buffer\u001b[0m\u001b[0;34m,\u001b[0m \u001b[0mkwds\u001b[0m\u001b[0;34m)\u001b[0m\u001b[0;34m\u001b[0m\u001b[0;34m\u001b[0m\u001b[0m\n\u001b[0m\u001b[1;32m    951\u001b[0m \u001b[0;34m\u001b[0m\u001b[0m\n\u001b[1;32m    952\u001b[0m \u001b[0;34m\u001b[0m\u001b[0m\n",
            "\u001b[0;32m/usr/local/lib/python3.10/dist-packages/pandas/io/parsers/readers.py\u001b[0m in \u001b[0;36m_read\u001b[0;34m(filepath_or_buffer, kwds)\u001b[0m\n\u001b[1;32m    603\u001b[0m \u001b[0;34m\u001b[0m\u001b[0m\n\u001b[1;32m    604\u001b[0m     \u001b[0;31m# Create the parser.\u001b[0m\u001b[0;34m\u001b[0m\u001b[0;34m\u001b[0m\u001b[0m\n\u001b[0;32m--> 605\u001b[0;31m     \u001b[0mparser\u001b[0m \u001b[0;34m=\u001b[0m \u001b[0mTextFileReader\u001b[0m\u001b[0;34m(\u001b[0m\u001b[0mfilepath_or_buffer\u001b[0m\u001b[0;34m,\u001b[0m \u001b[0;34m**\u001b[0m\u001b[0mkwds\u001b[0m\u001b[0;34m)\u001b[0m\u001b[0;34m\u001b[0m\u001b[0;34m\u001b[0m\u001b[0m\n\u001b[0m\u001b[1;32m    606\u001b[0m \u001b[0;34m\u001b[0m\u001b[0m\n\u001b[1;32m    607\u001b[0m     \u001b[0;32mif\u001b[0m \u001b[0mchunksize\u001b[0m \u001b[0;32mor\u001b[0m \u001b[0miterator\u001b[0m\u001b[0;34m:\u001b[0m\u001b[0;34m\u001b[0m\u001b[0;34m\u001b[0m\u001b[0m\n",
            "\u001b[0;32m/usr/local/lib/python3.10/dist-packages/pandas/io/parsers/readers.py\u001b[0m in \u001b[0;36m__init__\u001b[0;34m(self, f, engine, **kwds)\u001b[0m\n\u001b[1;32m   1440\u001b[0m \u001b[0;34m\u001b[0m\u001b[0m\n\u001b[1;32m   1441\u001b[0m         \u001b[0mself\u001b[0m\u001b[0;34m.\u001b[0m\u001b[0mhandles\u001b[0m\u001b[0;34m:\u001b[0m \u001b[0mIOHandles\u001b[0m \u001b[0;34m|\u001b[0m \u001b[0;32mNone\u001b[0m \u001b[0;34m=\u001b[0m \u001b[0;32mNone\u001b[0m\u001b[0;34m\u001b[0m\u001b[0;34m\u001b[0m\u001b[0m\n\u001b[0;32m-> 1442\u001b[0;31m         \u001b[0mself\u001b[0m\u001b[0;34m.\u001b[0m\u001b[0m_engine\u001b[0m \u001b[0;34m=\u001b[0m \u001b[0mself\u001b[0m\u001b[0;34m.\u001b[0m\u001b[0m_make_engine\u001b[0m\u001b[0;34m(\u001b[0m\u001b[0mf\u001b[0m\u001b[0;34m,\u001b[0m \u001b[0mself\u001b[0m\u001b[0;34m.\u001b[0m\u001b[0mengine\u001b[0m\u001b[0;34m)\u001b[0m\u001b[0;34m\u001b[0m\u001b[0;34m\u001b[0m\u001b[0m\n\u001b[0m\u001b[1;32m   1443\u001b[0m \u001b[0;34m\u001b[0m\u001b[0m\n\u001b[1;32m   1444\u001b[0m     \u001b[0;32mdef\u001b[0m \u001b[0mclose\u001b[0m\u001b[0;34m(\u001b[0m\u001b[0mself\u001b[0m\u001b[0;34m)\u001b[0m \u001b[0;34m->\u001b[0m \u001b[0;32mNone\u001b[0m\u001b[0;34m:\u001b[0m\u001b[0;34m\u001b[0m\u001b[0;34m\u001b[0m\u001b[0m\n",
            "\u001b[0;32m/usr/local/lib/python3.10/dist-packages/pandas/io/parsers/readers.py\u001b[0m in \u001b[0;36m_make_engine\u001b[0;34m(self, f, engine)\u001b[0m\n\u001b[1;32m   1733\u001b[0m                 \u001b[0;32mif\u001b[0m \u001b[0;34m\"b\"\u001b[0m \u001b[0;32mnot\u001b[0m \u001b[0;32min\u001b[0m \u001b[0mmode\u001b[0m\u001b[0;34m:\u001b[0m\u001b[0;34m\u001b[0m\u001b[0;34m\u001b[0m\u001b[0m\n\u001b[1;32m   1734\u001b[0m                     \u001b[0mmode\u001b[0m \u001b[0;34m+=\u001b[0m \u001b[0;34m\"b\"\u001b[0m\u001b[0;34m\u001b[0m\u001b[0;34m\u001b[0m\u001b[0m\n\u001b[0;32m-> 1735\u001b[0;31m             self.handles = get_handle(\n\u001b[0m\u001b[1;32m   1736\u001b[0m                 \u001b[0mf\u001b[0m\u001b[0;34m,\u001b[0m\u001b[0;34m\u001b[0m\u001b[0;34m\u001b[0m\u001b[0m\n\u001b[1;32m   1737\u001b[0m                 \u001b[0mmode\u001b[0m\u001b[0;34m,\u001b[0m\u001b[0;34m\u001b[0m\u001b[0;34m\u001b[0m\u001b[0m\n",
            "\u001b[0;32m/usr/local/lib/python3.10/dist-packages/pandas/io/common.py\u001b[0m in \u001b[0;36mget_handle\u001b[0;34m(path_or_buf, mode, encoding, compression, memory_map, is_text, errors, storage_options)\u001b[0m\n\u001b[1;32m    854\u001b[0m         \u001b[0;32mif\u001b[0m \u001b[0mioargs\u001b[0m\u001b[0;34m.\u001b[0m\u001b[0mencoding\u001b[0m \u001b[0;32mand\u001b[0m \u001b[0;34m\"b\"\u001b[0m \u001b[0;32mnot\u001b[0m \u001b[0;32min\u001b[0m \u001b[0mioargs\u001b[0m\u001b[0;34m.\u001b[0m\u001b[0mmode\u001b[0m\u001b[0;34m:\u001b[0m\u001b[0;34m\u001b[0m\u001b[0;34m\u001b[0m\u001b[0m\n\u001b[1;32m    855\u001b[0m             \u001b[0;31m# Encoding\u001b[0m\u001b[0;34m\u001b[0m\u001b[0;34m\u001b[0m\u001b[0m\n\u001b[0;32m--> 856\u001b[0;31m             handle = open(\n\u001b[0m\u001b[1;32m    857\u001b[0m                 \u001b[0mhandle\u001b[0m\u001b[0;34m,\u001b[0m\u001b[0;34m\u001b[0m\u001b[0;34m\u001b[0m\u001b[0m\n\u001b[1;32m    858\u001b[0m                 \u001b[0mioargs\u001b[0m\u001b[0;34m.\u001b[0m\u001b[0mmode\u001b[0m\u001b[0;34m,\u001b[0m\u001b[0;34m\u001b[0m\u001b[0;34m\u001b[0m\u001b[0m\n",
            "\u001b[0;31mIsADirectoryError\u001b[0m: [Errno 21] Is a directory: '/content/drive/MyDrive/Systemic Disease'"
          ]
        }
      ]
    },
    {
      "cell_type": "code",
      "source": [
        "# Assuming your dataset has columns 'feature1', 'feature2', ..., 'featureN' for features\n",
        "# and 'label' for the target variable (skin disease class)\n",
        "X = data[['feature1', 'feature2', 'feature3', 'featureN']]\n",
        "y = data['label']"
      ],
      "metadata": {
        "id": "1cTpVUfhzaFe"
      },
      "execution_count": null,
      "outputs": []
    },
    {
      "cell_type": "code",
      "source": [
        "# Split the dataset into training and testing sets (70% training, 30% testing)\n",
        "X_train, X_test, y_train, y_test = train_test_split(X, y, test_size=0.3, random_state=42)\n"
      ],
      "metadata": {
        "id": "EXjAeuHmzbmH"
      },
      "execution_count": null,
      "outputs": []
    },
    {
      "cell_type": "code",
      "source": [
        "# Create a Random Forest classifier with 100 estimators (trees)\n",
        "clf = RandomForestClassifier(n_estimators=100, random_state=42)\n"
      ],
      "metadata": {
        "id": "nKpeuV5bzdOx"
      },
      "execution_count": null,
      "outputs": []
    },
    {
      "cell_type": "code",
      "source": [
        "# Train the classifier on the training data\n",
        "clf.fit(X_train, y_train)"
      ],
      "metadata": {
        "id": "X6sWwmcEze_Z"
      },
      "execution_count": null,
      "outputs": []
    },
    {
      "cell_type": "code",
      "source": [
        "# Make predictions on the testing data\n",
        "y_pred = clf.predict(X_test)"
      ],
      "metadata": {
        "id": "5j7zk4juzgrn"
      },
      "execution_count": null,
      "outputs": []
    },
    {
      "cell_type": "code",
      "source": [
        "# Evaluate the classifier's performance\n",
        "print(\"Accuracy:\", accuracy_score(y_test, y_pred))\n",
        "print(\"\\nClassification Report:\\n\", classification_report(y_test, y_pred))"
      ],
      "metadata": {
        "id": "r65qY8ZezigN"
      },
      "execution_count": null,
      "outputs": []
    }
  ]
}